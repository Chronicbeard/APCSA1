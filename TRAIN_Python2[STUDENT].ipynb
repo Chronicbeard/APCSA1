{
  "cells": [
    {
      "cell_type": "markdown",
      "metadata": {
        "id": "view-in-github",
        "colab_type": "text"
      },
      "source": [
        "<a href=\"https://colab.research.google.com/github/Chronicbeard/APCSA1/blob/master/TRAIN_Python2%5BSTUDENT%5D.ipynb\" target=\"_parent\"><img src=\"https://colab.research.google.com/assets/colab-badge.svg\" alt=\"Open In Colab\"/></a>"
      ]
    },
    {
      "cell_type": "markdown",
      "metadata": {
        "id": "9nDGNBagIrpK"
      },
      "source": [
        "# Lab #2: Python - Part 2\n",
        "---"
      ]
    },
    {
      "cell_type": "markdown",
      "source": [
        "## **Part #0: Review**\n",
        "---"
      ],
      "metadata": {
        "id": "ZxdGPNWQRiJh"
      }
    },
    {
      "cell_type": "markdown",
      "metadata": {
        "id": "-tmSZ5MiI0T6"
      },
      "source": [
        "### Exercise #1\n",
        "---\n",
        "**Problem:** Print your age.\n",
        "\n"
      ]
    },
    {
      "cell_type": "code",
      "execution_count": null,
      "metadata": {
        "id": "eimDOZ9iIn_6"
      },
      "outputs": [],
      "source": []
    },
    {
      "cell_type": "markdown",
      "metadata": {
        "id": "vIuM5XBXI5Oe"
      },
      "source": [
        "### Exercise #2\n",
        "---\n",
        "**Problem:** Print your name.\n",
        "\n"
      ]
    },
    {
      "cell_type": "code",
      "execution_count": null,
      "metadata": {
        "id": "eSnP-nCvQ5RI"
      },
      "outputs": [],
      "source": []
    },
    {
      "cell_type": "markdown",
      "source": [
        "### Exercise #3\n",
        "---\n",
        "**Problem:** What are the following data types?\n",
        "\n",
        "```python\n",
        "11\n",
        "\"zipcode\"\n",
        "3.0\n",
        "3\n",
        "\"yellow\"\n",
        "[1, 2, 3]\n",
        "-11\n",
        "[\"peaches\", \"grapes\", \"tomatoes\"]\n",
        "\"49ers\"\n",
        "```"
      ],
      "metadata": {
        "id": "3DbiAes6odAP"
      }
    },
    {
      "cell_type": "markdown",
      "source": [
        "### Exercise #4\n",
        "---\n",
        "**Problem:** Create a variable called `name` and assign it to your name. Then print a statement that reads: `Welcome back, [YOUR NAME]`"
      ],
      "metadata": {
        "id": "JwQ_Dl6epNbl"
      }
    },
    {
      "cell_type": "code",
      "source": [],
      "metadata": {
        "id": "VU19noUzpQ1d"
      },
      "execution_count": null,
      "outputs": []
    },
    {
      "cell_type": "markdown",
      "metadata": {
        "id": "YzJwWlLU6oUp"
      },
      "source": [
        "###Exercise #5\n",
        "\n",
        "---\n",
        "\n",
        "**Problem:** Using the variable `zipcode`, print: `\"My zipcode is <zipcode>\"`."
      ]
    },
    {
      "cell_type": "code",
      "execution_count": null,
      "metadata": {
        "id": "DLWD4qoe603N"
      },
      "outputs": [],
      "source": [
        "zipcode = 11780"
      ]
    },
    {
      "cell_type": "markdown",
      "metadata": {
        "id": "qr8upnhn7C8-"
      },
      "source": [
        "###Exercise #6\n",
        "\n",
        "---\n",
        "\n",
        "**Problem:** Print the sum of 76 and 92."
      ]
    },
    {
      "cell_type": "code",
      "execution_count": null,
      "metadata": {
        "id": "xxCYqOjM7KK3"
      },
      "outputs": [],
      "source": []
    },
    {
      "cell_type": "markdown",
      "metadata": {
        "id": "LB9hjApu7PDt"
      },
      "source": [
        "###Exercise #7\n",
        "\n",
        "---\n",
        "\n",
        "**Problem:** Print the product of 2 and 45.0."
      ]
    },
    {
      "cell_type": "code",
      "execution_count": null,
      "metadata": {
        "id": "UNnCPWsX7V5k"
      },
      "outputs": [],
      "source": []
    },
    {
      "cell_type": "markdown",
      "metadata": {
        "id": "xKpsappT7gXZ"
      },
      "source": [
        "###Exercise #8\n",
        "\n",
        "---\n",
        "**Problem:** Print the sum of students and teachers."
      ]
    },
    {
      "cell_type": "code",
      "execution_count": null,
      "metadata": {
        "id": "Krv3SJpg77S9"
      },
      "outputs": [],
      "source": [
        "students = 35\n",
        "teachers = 1\n",
        "# add code here"
      ]
    },
    {
      "cell_type": "markdown",
      "metadata": {
        "id": "0xLrJZzMJCT8"
      },
      "source": [
        "---\n",
        "\n",
        "###Back to Lecture\n",
        "\n",
        "---"
      ]
    },
    {
      "cell_type": "markdown",
      "source": [
        "## **Part #1: Lists**\n",
        "---"
      ],
      "metadata": {
        "id": "loojxB3pRWyg"
      }
    },
    {
      "cell_type": "markdown",
      "source": [
        "###Practice Together #1\n",
        "---\n",
        "**Problem:** Create a list called `states` of 4 different U.S. states.\n",
        "Print the list.\n",
        "\n",
        "**Note:** When you create a list, this is referred to as *initializing a list*."
      ],
      "metadata": {
        "id": "kTwSOV67Wwms"
      }
    },
    {
      "cell_type": "code",
      "source": [],
      "metadata": {
        "id": "r_46chQTvmIK"
      },
      "execution_count": null,
      "outputs": []
    },
    {
      "cell_type": "markdown",
      "source": [
        "##### **Solution**"
      ],
      "metadata": {
        "id": "dPX_yfWuPscI"
      }
    },
    {
      "cell_type": "code",
      "source": [
        "states = [\"Montana\", \"California\", \"Alabama\", \"Georgia\"]\n",
        "print(states)"
      ],
      "metadata": {
        "id": "lQum2NolPt1Y"
      },
      "execution_count": null,
      "outputs": []
    },
    {
      "cell_type": "markdown",
      "source": [
        "###Practice Together #2\n",
        "---\n",
        "**Problem:** Initialize a list called `even` of all even numbers from 1-10.\n",
        "Print the list."
      ],
      "metadata": {
        "id": "VCKoULo_4Hbh"
      }
    },
    {
      "cell_type": "code",
      "source": [],
      "metadata": {
        "id": "ikoj_76Y4LTW"
      },
      "execution_count": null,
      "outputs": []
    },
    {
      "cell_type": "markdown",
      "source": [
        "#####**Solution**"
      ],
      "metadata": {
        "id": "JU_BnVgI4Max"
      }
    },
    {
      "cell_type": "code",
      "source": [
        "even = [2, 4, 6, 8, 10]\n",
        "print(even)"
      ],
      "metadata": {
        "id": "sXj0amPM4O0e"
      },
      "execution_count": null,
      "outputs": []
    },
    {
      "cell_type": "markdown",
      "source": [
        "---\n",
        "\n",
        "#####**Now your turn! Try Exercises #1-2 on your own.**\n",
        "\n",
        "---"
      ],
      "metadata": {
        "id": "BaXdKVoFi5Qd"
      }
    },
    {
      "cell_type": "markdown",
      "source": [
        "###Exercise #1\n",
        "---\n",
        "**Problem:** Initialize a list called `count` of numbers 1-6.\n",
        "Print the list."
      ],
      "metadata": {
        "id": "9MdTwgfcP8uh"
      }
    },
    {
      "cell_type": "code",
      "source": [],
      "metadata": {
        "id": "x9_mZ9QxP-fM"
      },
      "execution_count": null,
      "outputs": []
    },
    {
      "cell_type": "markdown",
      "source": [
        "###Exercise #2\n",
        "---\n",
        "**Problem:** Initialize a list called `animals` of your three favorite animals. Print the list."
      ],
      "metadata": {
        "id": "hUyLcpciQCBj"
      }
    },
    {
      "cell_type": "code",
      "source": [],
      "metadata": {
        "id": "UHXqiezBQsxc"
      },
      "execution_count": null,
      "outputs": []
    },
    {
      "cell_type": "markdown",
      "source": [
        "---\n",
        "\n",
        "### Back to Lecture\n",
        "\n",
        "---"
      ],
      "metadata": {
        "id": "qNy2BRm3Wp37"
      }
    },
    {
      "cell_type": "markdown",
      "source": [
        "### Practice Together #3\n",
        "---\n",
        "**Problem:** Given the following list, use indexing to print out `“code!”`."
      ],
      "metadata": {
        "id": "-2sudpUxdzTe"
      }
    },
    {
      "cell_type": "code",
      "execution_count": null,
      "metadata": {
        "id": "myCEwtzJWfLF"
      },
      "outputs": [],
      "source": [
        "ls = [\"I\", \"love\", \"to\", \"code!\"]"
      ]
    },
    {
      "cell_type": "markdown",
      "metadata": {
        "id": "CMqbt95uWfeJ"
      },
      "source": [
        "#####**Solution**"
      ]
    },
    {
      "cell_type": "code",
      "execution_count": null,
      "metadata": {
        "id": "_xG9psqUWhe1"
      },
      "outputs": [],
      "source": [
        "ls = [\"I\", \"love\", \"to\", \"code!\"]\n",
        "print(ls[3])"
      ]
    },
    {
      "cell_type": "markdown",
      "metadata": {
        "id": "jSVb4xoQWg3y"
      },
      "source": [
        "###Practice Together #4\n",
        "---\n",
        "**Problem:** Use indexing to print Alexus' name."
      ]
    },
    {
      "cell_type": "code",
      "execution_count": null,
      "metadata": {
        "id": "JFz5_XI8W7uJ"
      },
      "outputs": [],
      "source": [
        "family = [\"Rebecca\", \"Samuel\", \"Indiyah\", \"Alexus\"]"
      ]
    },
    {
      "cell_type": "markdown",
      "metadata": {
        "id": "qMliA8jnW72b"
      },
      "source": [
        "#####**Solution**"
      ]
    },
    {
      "cell_type": "code",
      "execution_count": null,
      "metadata": {
        "id": "86fijjAdXAxm",
        "colab": {
          "base_uri": "https://localhost:8080/"
        },
        "outputId": "b51984e5-7f44-499d-e5aa-1fc52b39b896"
      },
      "outputs": [
        {
          "output_type": "stream",
          "name": "stdout",
          "text": [
            "Alexus\n"
          ]
        }
      ],
      "source": [
        "family = [\"Rebecca\", \"Samuel\", \"Indiyah\", \"Alexus\"]\n",
        "print(family[3])"
      ]
    },
    {
      "cell_type": "markdown",
      "source": [
        "---\n",
        "\n",
        "#####**Now your turn! Try Exercises #3-6 on your own.**\n",
        "\n",
        "---"
      ],
      "metadata": {
        "id": "BN5NiH_qY290"
      }
    },
    {
      "cell_type": "markdown",
      "metadata": {
        "id": "MnVf2J1EXJhA"
      },
      "source": [
        "###Exercise #3\n",
        "---\n",
        "**Problem:** Use indexing to print out `\"the\"` in the following list:"
      ]
    },
    {
      "cell_type": "code",
      "execution_count": null,
      "metadata": {
        "id": "zPaDSFOVXO5K"
      },
      "outputs": [],
      "source": [
        "ls = [\"welcome\", \"to\", \"the\", \"coding\", \"school\"]"
      ]
    },
    {
      "cell_type": "markdown",
      "metadata": {
        "id": "qBEfMrArX-b2"
      },
      "source": [
        "###Exercise #4\n",
        "---\n",
        "**Problem:** Print `21` using indexing."
      ]
    },
    {
      "cell_type": "code",
      "execution_count": null,
      "metadata": {
        "id": "Alxt6MWqYDMO"
      },
      "outputs": [],
      "source": [
        "numbers = [17, 15, 21, 33]"
      ]
    },
    {
      "cell_type": "markdown",
      "metadata": {
        "id": "a_jWISL6bJQI"
      },
      "source": [
        "###Exercise #5\n",
        "---\n",
        "**Problem:** Print `\"Math\"` using indexing."
      ]
    },
    {
      "cell_type": "code",
      "execution_count": null,
      "metadata": {
        "id": "dNlRvpp_bJQY"
      },
      "outputs": [],
      "source": [
        "subjects = [\"Math\", \"Science\", \"History\", \"English\"]"
      ]
    },
    {
      "cell_type": "markdown",
      "metadata": {
        "id": "v2z9pNIQbJ-d"
      },
      "source": [
        "###Exercise #6\n",
        "---\n",
        "**Problem:** Print `\"jellyfish\"` using indexing."
      ]
    },
    {
      "cell_type": "code",
      "execution_count": null,
      "metadata": {
        "id": "LimoSCoXbJ-e"
      },
      "outputs": [],
      "source": [
        "animals = [\"shark\", \"fish\", \"octopus\", \"jellyfish\", \"whale\"]"
      ]
    },
    {
      "cell_type": "markdown",
      "metadata": {
        "id": "WnWADPRmWFap"
      },
      "source": [
        "---\n",
        "\n",
        "###Back to Lecture\n",
        "\n",
        "---"
      ]
    },
    {
      "cell_type": "markdown",
      "source": [
        "### Practice Together #5\n",
        "---\n",
        "**Problem:** Given the following list `ascending`, replace the values of `41` and `20` so that the list is in ascending order."
      ],
      "metadata": {
        "id": "IM6-ftAOfPYl"
      }
    },
    {
      "cell_type": "code",
      "execution_count": null,
      "metadata": {
        "id": "wreiU5FJfPY5"
      },
      "outputs": [],
      "source": [
        "ascending = [12, 13, 41, 15, 16, 20, 18]"
      ]
    },
    {
      "cell_type": "markdown",
      "metadata": {
        "id": "Blm1F0S_fPY6"
      },
      "source": [
        "#####**Solution**"
      ]
    },
    {
      "cell_type": "code",
      "execution_count": null,
      "metadata": {
        "id": "m9ayJ9uvfPY6"
      },
      "outputs": [],
      "source": [
        "ascending = [12, 13, 41, 15, 16, 20, 18]\n",
        "ascending[2] = 14\n",
        "ascending[5] = 17\n",
        "print(ascending)"
      ]
    },
    {
      "cell_type": "markdown",
      "source": [
        "###Practice Together #6\n",
        "---\n",
        "**Problem:** Given the following list `endangered`:\n",
        "\n",
        "1. Replace `\"Tiger\"` with `\"Rhino\"`. Print the list.\n",
        "2. Replace `\"Snow leopard\"` with `\"Elephant\"`. Print the list."
      ],
      "metadata": {
        "id": "QNVBAx0lJNYc"
      }
    },
    {
      "cell_type": "code",
      "source": [
        "endangered = [\"Tiger\", \"Giant panda\", \"Snow leopard\", \"Vaquita\"]"
      ],
      "metadata": {
        "id": "NEaZyLVkkfG_"
      },
      "execution_count": null,
      "outputs": []
    },
    {
      "cell_type": "markdown",
      "source": [
        "#####**Solution**"
      ],
      "metadata": {
        "id": "chOVBYcpkgIg"
      }
    },
    {
      "cell_type": "code",
      "source": [
        "endangered = [\"Tiger\", \"Giant panda\", \"Snow leopard\", \"Vaquita\"]\n",
        "endangered[0] = \"Rhino\"\n",
        "print(endangered)\n",
        "endangered[2] = \"Elephant\"\n",
        "print(endangered)"
      ],
      "metadata": {
        "id": "p_ZiWeHUJpWP",
        "colab": {
          "base_uri": "https://localhost:8080/"
        },
        "outputId": "8d9f7036-a8be-42f8-e12f-9426151407e3"
      },
      "execution_count": null,
      "outputs": [
        {
          "output_type": "stream",
          "name": "stdout",
          "text": [
            "['Rhino', 'Giant panda', 'Snow leopard', 'Vaquita']\n",
            "['Rhino', 'Giant panda', 'Elephant', 'Vaquita']\n"
          ]
        }
      ]
    },
    {
      "cell_type": "markdown",
      "source": [
        "---\n",
        "\n",
        "#####**Now your turn! Try Exercises #7-10 on your own.**\n",
        "\n",
        "---"
      ],
      "metadata": {
        "id": "JDMOuem8cTMf"
      }
    },
    {
      "cell_type": "markdown",
      "metadata": {
        "id": "B40N_2LPouEr"
      },
      "source": [
        "###Exercise #7\n",
        "---\n",
        "**Problem:** Replace `\"monkeys\"` with `\"penguins\"` in the list below. Print the list."
      ]
    },
    {
      "cell_type": "code",
      "execution_count": null,
      "metadata": {
        "id": "Jgx-E6uCovBi"
      },
      "outputs": [],
      "source": [
        "fav_animals = [\"giraffes\", \"walruses\", \"pandas\", \"peacocks\", \"monkeys\"]"
      ]
    },
    {
      "cell_type": "markdown",
      "source": [
        "###Exercise #8\n",
        "---\n",
        "**Problem:** Given the list `us_presidents`, replace `\"Jackson\"` with `\"Lincoln\"`, and then print the updated list."
      ],
      "metadata": {
        "id": "vZzf8GILuzv_"
      }
    },
    {
      "cell_type": "code",
      "source": [
        "us_presidents = [\"Washington\", \"Adams\", \"Jefferson\", \"Madison\", \"Jackson\"]"
      ],
      "metadata": {
        "id": "Jl0ouh8qvMjx"
      },
      "execution_count": null,
      "outputs": []
    },
    {
      "cell_type": "markdown",
      "source": [
        "###Exercise #9\n",
        "---\n",
        "**Problem:** Given the list `subjects`, replace `\"Science\"` with `\"Biology\"`. Print the list."
      ],
      "metadata": {
        "id": "MgBRqflxpOI_"
      }
    },
    {
      "cell_type": "code",
      "source": [
        "subjects = [\"Math\", \"Science\", \"History\", \"English\"]"
      ],
      "metadata": {
        "id": "eapHtysrpOJL"
      },
      "execution_count": null,
      "outputs": []
    },
    {
      "cell_type": "markdown",
      "source": [
        "###Exercise #10\n",
        "---\n",
        "**Problem:** Given the list `odd`, replace the even numbers with odd numbers. Print the list."
      ],
      "metadata": {
        "id": "-KrgRO7OpOes"
      }
    },
    {
      "cell_type": "code",
      "source": [
        "odd = [3, 11, 19, 25, 12, 8]"
      ],
      "metadata": {
        "id": "ICeljXdVpOet"
      },
      "execution_count": null,
      "outputs": []
    },
    {
      "cell_type": "markdown",
      "metadata": {
        "id": "dZOtBnHldkzW"
      },
      "source": [
        "---\n",
        "\n",
        "###Back to Lecture\n",
        "\n",
        "---"
      ]
    },
    {
      "cell_type": "markdown",
      "source": [
        "### Practice Together #7\n",
        "---\n",
        "**Problem:**\n",
        "Initialize a list called `subjects` and assign it three values: `\"English\"`, `\"Math\"`, `\"Physics\"`.\n",
        "\n",
        "1. Add `\"Computer Science\"` and then print the updated list.\n",
        "2. Add `\"Psychology\"` and then print the updated list.\n",
        "\n"
      ],
      "metadata": {
        "id": "CH3mBVBQ0dcQ"
      }
    },
    {
      "cell_type": "code",
      "source": [],
      "metadata": {
        "id": "wHIuEIXiewxj"
      },
      "execution_count": null,
      "outputs": []
    },
    {
      "cell_type": "markdown",
      "source": [
        "#####**Solution**"
      ],
      "metadata": {
        "id": "20rjZ1LYewxk"
      }
    },
    {
      "cell_type": "code",
      "source": [
        "subjects = [\"English\", \"Math\", \"Physics\"]\n",
        "subjects.append(\"Computer Science\")\n",
        "print(subjects)\n",
        "subjects.append(\"Psychology\")\n",
        "print(subjects)"
      ],
      "metadata": {
        "id": "BfZe1Zlu0d6G",
        "colab": {
          "base_uri": "https://localhost:8080/"
        },
        "outputId": "d069cc85-3fbb-41c0-fa3b-eb0a0b949b20"
      },
      "execution_count": null,
      "outputs": [
        {
          "output_type": "stream",
          "name": "stdout",
          "text": [
            "['English', 'Math', 'Physics', 'Computer Science']\n",
            "['English', 'Math', 'Physics', 'Computer Science', 'Psychology']\n"
          ]
        }
      ]
    },
    {
      "cell_type": "markdown",
      "source": [
        "###Practice Together #8\n",
        "---\n",
        "**Problem:**\n",
        "Initialize an empty list called `endangered`. Append the following values to the list one at a time: `\"Tiger\"`, `\"Giant panda\"`, `\"Snow leopard\"`, and `\"Vaquita\"`.\n",
        "\n",
        "Print your list to make sure it is correct."
      ],
      "metadata": {
        "id": "wOMCSDWSJJGt"
      }
    },
    {
      "cell_type": "code",
      "source": [],
      "metadata": {
        "id": "eaiVkUDzkeNA"
      },
      "execution_count": null,
      "outputs": []
    },
    {
      "cell_type": "markdown",
      "source": [
        "#####**Solution**"
      ],
      "metadata": {
        "id": "Wwo39jfTioXX"
      }
    },
    {
      "cell_type": "code",
      "source": [
        "endangered = []\n",
        "endangered.append(\"Tiger\")\n",
        "endangered.append(\"Giant panda\")\n",
        "endangered.append(\"Snow leopard\")\n",
        "endangered.append(\"Vaquita\")\n",
        "print(endangered)"
      ],
      "metadata": {
        "id": "BDPkJkxAI-Mv",
        "colab": {
          "base_uri": "https://localhost:8080/"
        },
        "outputId": "8d6d5a62-ecd3-47b1-ae2b-f6f52f406278"
      },
      "execution_count": null,
      "outputs": [
        {
          "output_type": "stream",
          "name": "stdout",
          "text": [
            "['Tiger', 'Giant panda', 'Snow leopard', 'Vaquita']\n"
          ]
        }
      ]
    },
    {
      "cell_type": "markdown",
      "source": [
        "---\n",
        "\n",
        "#####**Now your turn! Try Exercises #11-13 on your own.**\n",
        "\n",
        "---"
      ],
      "metadata": {
        "id": "6XSGQK2HZ2WM"
      }
    },
    {
      "cell_type": "markdown",
      "source": [
        "### Exercise #11\n",
        "---\n",
        "**Problem:** Given the  list `[10, 12, 12, 40]`, append your age to the list.\n",
        "\n",
        "\n",
        "\n"
      ],
      "metadata": {
        "id": "q89mZP6j2BGF"
      }
    },
    {
      "cell_type": "code",
      "source": [],
      "metadata": {
        "id": "hSgjRO9y2Ewf"
      },
      "execution_count": null,
      "outputs": []
    },
    {
      "cell_type": "markdown",
      "source": [
        "###Exercise #12\n",
        "---\n",
        "**Problem:** Initialize an empty list called `letters` and append the value `\"abc\"` three times."
      ],
      "metadata": {
        "id": "5KlKVgz3uxEf"
      }
    },
    {
      "cell_type": "code",
      "source": [],
      "metadata": {
        "id": "aENzXd89u33s"
      },
      "execution_count": null,
      "outputs": []
    },
    {
      "cell_type": "markdown",
      "source": [
        "###Exercise #13\n",
        "---\n",
        "**Problem:** Given the list `us_presidents`, append `\"Nixon\"` to the list. Print the list."
      ],
      "metadata": {
        "id": "c5XePZMprTh6"
      }
    },
    {
      "cell_type": "code",
      "source": [
        "us_presidents = [\"Washington\", \"Adams\", \"Jefferson\", \"Madison\", \"Jackson\"]"
      ],
      "metadata": {
        "id": "J9edzZsVrTiI"
      },
      "execution_count": null,
      "outputs": []
    },
    {
      "cell_type": "markdown",
      "source": [
        "---\n",
        "### Back to Lecture\n",
        "---"
      ],
      "metadata": {
        "id": "6u2_ZHz5FG33"
      }
    },
    {
      "cell_type": "markdown",
      "source": [
        "### Practice Together #9\n",
        "---\n",
        "**Problem:**\n",
        "Given the list `land_animals`, remove all animals that live in the water. Then print the list."
      ],
      "metadata": {
        "id": "4u7-AqFUtZFm"
      }
    },
    {
      "cell_type": "code",
      "source": [
        "land_animals = [\"dog\", \"tiger\", \"whale\", \"bear\", \"dolphin\", \"hamster\", \"shark\"]"
      ],
      "metadata": {
        "id": "_q2sFOyBtZFn"
      },
      "execution_count": null,
      "outputs": []
    },
    {
      "cell_type": "markdown",
      "source": [
        "#####**Solution**"
      ],
      "metadata": {
        "id": "eQNHmGoMtZFo"
      }
    },
    {
      "cell_type": "code",
      "source": [
        "land_animals = [\"dog\", \"tiger\", \"whale\", \"bear\", \"dolphin\", \"hamster\", \"shark\"]\n",
        "land_animals.remove(\"whale\")\n",
        "land_animals.remove(\"dolphin\")\n",
        "land_animals.remove(\"shark\")\n",
        "print(land_animals)"
      ],
      "metadata": {
        "colab": {
          "base_uri": "https://localhost:8080/"
        },
        "id": "29JgsQfEtZFo",
        "outputId": "f8892477-9d76-4b0d-ac78-ddc0c06d77df"
      },
      "execution_count": null,
      "outputs": [
        {
          "output_type": "stream",
          "name": "stdout",
          "text": [
            "['dog', 'tiger', 'bear', 'hamster']\n"
          ]
        }
      ]
    },
    {
      "cell_type": "markdown",
      "source": [
        "### Practice Together #10\n",
        "---\n",
        "**Problem:**\n",
        "Given the list `sciences`, remove all subjects that are not science subjects. Then, print the list."
      ],
      "metadata": {
        "id": "Ycp0n3S4ttex"
      }
    },
    {
      "cell_type": "code",
      "source": [
        "sciences = [\"Physics\", \"Math\", \"History\", \"Chemistry\", \"Music\", \"Biology\"]"
      ],
      "metadata": {
        "id": "_cbWb4UfttfE"
      },
      "execution_count": null,
      "outputs": []
    },
    {
      "cell_type": "markdown",
      "source": [
        "#####**Solution**"
      ],
      "metadata": {
        "id": "7gaIhpAtttfF"
      }
    },
    {
      "cell_type": "code",
      "source": [
        "sciences = [\"Physics\", \"Math\", \"History\", \"Chemistry\", \"Music\", \"Biology\"]\n",
        "sciences.remove(\"Math\")\n",
        "sciences.remove(\"History\")\n",
        "sciences.remove(\"Music\")\n",
        "print(sciences)"
      ],
      "metadata": {
        "colab": {
          "base_uri": "https://localhost:8080/"
        },
        "id": "bGY3Duo5ttfF",
        "outputId": "a0d8d21a-4724-4e48-86ed-8e6178c12c5c"
      },
      "execution_count": null,
      "outputs": [
        {
          "output_type": "stream",
          "name": "stdout",
          "text": [
            "['Physics', 'Chemistry', 'Biology']\n"
          ]
        }
      ]
    },
    {
      "cell_type": "markdown",
      "source": [
        "---\n",
        "\n",
        "#####**Now your turn! Try Exercises #14-16 on your own.**\n",
        "\n",
        "---"
      ],
      "metadata": {
        "id": "csGQ-a4Kzt3_"
      }
    },
    {
      "cell_type": "markdown",
      "source": [
        "### Exercise #14\n",
        "\n",
        "---\n",
        "**Problem:** Given the list below, remove `\"Gilmore Girls\"` and then print the list."
      ],
      "metadata": {
        "id": "sdsVbN-s2Hkl"
      }
    },
    {
      "cell_type": "code",
      "source": [
        "fav_tv = [\"Gilmore Girls\", \"Star Trek\", \"Stranger Things\", \"Ted Lasso\"]"
      ],
      "metadata": {
        "id": "JKOxCSzf2Kl-"
      },
      "execution_count": null,
      "outputs": []
    },
    {
      "cell_type": "markdown",
      "source": [
        "### Exercise #15\n",
        "\n",
        "---\n",
        "**Problem:** Remove `3` from the list below."
      ],
      "metadata": {
        "id": "QtGXxEeM2V2r"
      }
    },
    {
      "cell_type": "code",
      "source": [
        "age_cats = [5, 3, 2, 4]"
      ],
      "metadata": {
        "id": "nOQVoCbe2WjR"
      },
      "execution_count": null,
      "outputs": []
    },
    {
      "cell_type": "markdown",
      "metadata": {
        "id": "5faNpr1toDo5"
      },
      "source": [
        "###Exercise #16\n",
        "---\n",
        "**Problem:** Remove `\"pandas\"` from the list below."
      ]
    },
    {
      "cell_type": "code",
      "execution_count": null,
      "metadata": {
        "id": "JKksRgv7oIWJ"
      },
      "outputs": [],
      "source": [
        "fav_animals = [\"giraffes\", \"walruses\", \"pandas\", \"peacocks\", \"monkeys\"]"
      ]
    },
    {
      "cell_type": "markdown",
      "source": [
        "\n",
        "\n",
        "---\n",
        "###Back To Lecture\n",
        "\n",
        "---\n",
        "\n",
        "\n"
      ],
      "metadata": {
        "id": "0NWWg5iQ9dVC"
      }
    },
    {
      "cell_type": "markdown",
      "source": [
        "## **Part 1.1: Practice [Optional]**\n",
        "---"
      ],
      "metadata": {
        "id": "1JC1dFWc6FDv"
      }
    },
    {
      "cell_type": "markdown",
      "source": [
        "###**Practice with Lists and Indexing**\n",
        "---"
      ],
      "metadata": {
        "id": "jpIfyDyItMAy"
      }
    },
    {
      "cell_type": "markdown",
      "source": [
        "###Exercise #1\n",
        "\n",
        "---\n",
        "**Problem:** Initialize a list called `countries` of three different countries. Print the list."
      ],
      "metadata": {
        "id": "aR8G2Y7ygu3a"
      }
    },
    {
      "cell_type": "code",
      "source": [],
      "metadata": {
        "id": "yUfXhV8f6rl3"
      },
      "execution_count": null,
      "outputs": []
    },
    {
      "cell_type": "markdown",
      "source": [
        "###Exercise #2\n",
        "\n",
        "---\n",
        "**Problem:** Initialize a list called `tv_shows` of five different TV shows. Print the list."
      ],
      "metadata": {
        "id": "1HkO3UoM6uTW"
      }
    },
    {
      "cell_type": "code",
      "source": [],
      "metadata": {
        "id": "xPYRJhsh7au4"
      },
      "execution_count": null,
      "outputs": []
    },
    {
      "cell_type": "markdown",
      "source": [
        "###Exercise #3\n",
        "\n",
        "---\n",
        "**Problem:** Use indexing to print the element `9`."
      ],
      "metadata": {
        "id": "fn7QNV2g6utF"
      }
    },
    {
      "cell_type": "code",
      "source": [
        "numbers = [1, 3, 5, 7, 9]"
      ],
      "metadata": {
        "id": "HFAdKG8c7bMQ"
      },
      "execution_count": null,
      "outputs": []
    },
    {
      "cell_type": "markdown",
      "source": [
        "###Exercise #4\n",
        "\n",
        "---\n",
        "**Problem:** Print the first element in the given list."
      ],
      "metadata": {
        "id": "4xF86-z_6u2O"
      }
    },
    {
      "cell_type": "code",
      "source": [
        "ls = [\"first\", \"second\", \"third\"]"
      ],
      "metadata": {
        "id": "rPI54ctY7bsk"
      },
      "execution_count": null,
      "outputs": []
    },
    {
      "cell_type": "markdown",
      "source": [
        "###Exercise #5\n",
        "\n",
        "---\n",
        "**Problem:** Print the last element in the given list."
      ],
      "metadata": {
        "id": "1nI8kaTn6vAv"
      }
    },
    {
      "cell_type": "code",
      "source": [
        "flowers = [\"rose\", \"tulip\", \"dandelion\", \"sunflower\"]"
      ],
      "metadata": {
        "id": "vvno8PKg7cOw"
      },
      "execution_count": null,
      "outputs": []
    },
    {
      "cell_type": "markdown",
      "source": [
        "###Exercise #6\n",
        "\n",
        "---\n",
        "**Problem:** Given the list `supplies`,\n",
        "add `\"notebook\"` to the list. Print the resulting list."
      ],
      "metadata": {
        "id": "OmUKcC0v6vHp"
      }
    },
    {
      "cell_type": "code",
      "source": [
        "supplies = [\"textbook\", \"pencil\", \"pen\"]"
      ],
      "metadata": {
        "id": "8wp1oRoY7cm-"
      },
      "execution_count": null,
      "outputs": []
    },
    {
      "cell_type": "markdown",
      "source": [
        "###Exercise #7\n",
        "\n",
        "---\n",
        "**Problem:** Given the list\n",
        "`supplies`,\n",
        "remove `\"pen\"` from the list. Print the resulting list."
      ],
      "metadata": {
        "id": "FoS4nhGU6vNf"
      }
    },
    {
      "cell_type": "code",
      "source": [
        "supplies = [\"textbook\", \"pencil\", \"pen\", \"notebook\"]"
      ],
      "metadata": {
        "id": "6BIXlL5h7c-B"
      },
      "execution_count": null,
      "outputs": []
    },
    {
      "cell_type": "markdown",
      "source": [
        "###Exercise #8\n",
        "\n",
        "---\n",
        "**Problem:** Given the list `colors`, replace `\"grape\"` with `\"purple\"`. Print the resulting list."
      ],
      "metadata": {
        "id": "rU1c5xRo6vTo"
      }
    },
    {
      "cell_type": "code",
      "source": [
        "colors = [\"blue\", \"red\", \"green\", \"orange\", \"grape\"]"
      ],
      "metadata": {
        "id": "TkN8zIlE7deJ"
      },
      "execution_count": null,
      "outputs": []
    },
    {
      "cell_type": "markdown",
      "source": [
        "###Exercise #9\n",
        "\n",
        "---\n",
        "**Problem:** Given the list `greetings`, remove the empty string. Print the resulting list."
      ],
      "metadata": {
        "id": "9jzIM3hL6vYp"
      }
    },
    {
      "cell_type": "code",
      "source": [
        "greetings = [\"hello\", \"\", \"hi\", \"hey\"]"
      ],
      "metadata": {
        "id": "JWLpCU9c7d0O"
      },
      "execution_count": null,
      "outputs": []
    },
    {
      "cell_type": "markdown",
      "source": [
        "###Exercise #10\n",
        "\n",
        "---\n",
        "**Problem:** Given the list `animals`, replace `\"zoo\"` with `giraffe`. Print the resulting list."
      ],
      "metadata": {
        "id": "wLkbvPzc6veV"
      }
    },
    {
      "cell_type": "code",
      "source": [
        "animals = [\"zoo\", \"dolphin\", \"horse\", \"bird\", \"gorilla\"]"
      ],
      "metadata": {
        "id": "WjheM0ZU7eoB"
      },
      "execution_count": null,
      "outputs": []
    },
    {
      "cell_type": "markdown",
      "source": [
        "\n",
        "\n",
        "---\n",
        "###Back To Lecture\n",
        "\n",
        "---\n",
        "\n",
        "\n"
      ],
      "metadata": {
        "id": "nHZrrevG8HT9"
      }
    },
    {
      "cell_type": "markdown",
      "source": [
        "## **Part #2: Functions**\n",
        "---"
      ],
      "metadata": {
        "id": "KdYWOy_Wy1PG"
      }
    },
    {
      "cell_type": "markdown",
      "source": [
        "###Practice Together #1\n",
        "---\n",
        "**Problem:**\n",
        "\n",
        "1. Create a function called `greeting`. This function takes in no arguments. This function should print the text `\"Welcome back!\"` and return nothing.\n",
        "2. Call this function."
      ],
      "metadata": {
        "id": "06V6nTwbhdYx"
      }
    },
    {
      "cell_type": "code",
      "source": [],
      "metadata": {
        "id": "LznvS3ZSnpOm"
      },
      "execution_count": null,
      "outputs": []
    },
    {
      "cell_type": "markdown",
      "source": [
        "#####**Solution**"
      ],
      "metadata": {
        "id": "degCqAjInp4Z"
      }
    },
    {
      "cell_type": "code",
      "source": [
        "def greeting():\n",
        "  print(\"Welcome back!\")\n",
        "\n",
        "greeting()"
      ],
      "metadata": {
        "id": "sWIOE2t1hg7T"
      },
      "execution_count": null,
      "outputs": []
    },
    {
      "cell_type": "markdown",
      "source": [
        "###Practice Together #2\n",
        "---\n",
        "**Problem:** Create a function called `my_name`. This function should take an argument containing a string and print out `\"My name is _______\"` where the `___` represents the value of the argument.\n",
        "\n",
        "Call your function to make sure it works."
      ],
      "metadata": {
        "id": "SQptZIJ2h9yB"
      }
    },
    {
      "cell_type": "code",
      "source": [],
      "metadata": {
        "id": "GleNU-F199FQ"
      },
      "execution_count": null,
      "outputs": []
    },
    {
      "cell_type": "markdown",
      "source": [
        "#####**Solution**"
      ],
      "metadata": {
        "id": "p06oD3f299aF"
      }
    },
    {
      "cell_type": "code",
      "source": [
        "def my_name(name):\n",
        "  print(\"My name is \"+ name)\n",
        "\n",
        "\n",
        "my_name(\"Phil\")"
      ],
      "metadata": {
        "id": "0iJP8x3t9-1K",
        "colab": {
          "base_uri": "https://localhost:8080/"
        },
        "outputId": "0d2fa28d-6844-4da3-cbc8-96b8133ea8bf"
      },
      "execution_count": null,
      "outputs": [
        {
          "output_type": "stream",
          "name": "stdout",
          "text": [
            "My name is Phil\n"
          ]
        }
      ]
    },
    {
      "cell_type": "markdown",
      "source": [
        "###Practice Together #3\n",
        "---\n",
        "**Problem:** Debug the following cell. When called, `code_is_cool()` should print `\"Coding is cool!\"`"
      ],
      "metadata": {
        "id": "KdA0ucf8iJzo"
      }
    },
    {
      "cell_type": "code",
      "source": [
        "code_is_cool()\n",
        "def code_is_cool():\n",
        "  print(\"Coding is cool!\")"
      ],
      "metadata": {
        "id": "j5SWKL89-K1J"
      },
      "execution_count": null,
      "outputs": []
    },
    {
      "cell_type": "markdown",
      "source": [
        "#####**Solution**"
      ],
      "metadata": {
        "id": "yxIVtC51-N1I"
      }
    },
    {
      "cell_type": "code",
      "source": [
        "# need to define first\n",
        "def code_is_cool():\n",
        "  print(\"Coding is cool!\")\n",
        "\n",
        "\n",
        "code_is_cool()"
      ],
      "metadata": {
        "id": "ZMeQ1slK-PGx"
      },
      "execution_count": null,
      "outputs": []
    },
    {
      "cell_type": "markdown",
      "source": [
        "###Practice Together #4\n",
        "---\n",
        "**Problem:**\n",
        "1. Define a function called `addition` that takes two arguments and returns the sum of the two arguments.\n",
        "2. Call this function with two integers and store the output in a variabled called `sum_value`.\n",
        "3. Print the value of `sum_value`."
      ],
      "metadata": {
        "id": "BsrY4GKBpGgg"
      }
    },
    {
      "cell_type": "code",
      "source": [],
      "metadata": {
        "id": "46rYERV2pFHD"
      },
      "execution_count": null,
      "outputs": []
    },
    {
      "cell_type": "markdown",
      "source": [
        "#####**Solution**"
      ],
      "metadata": {
        "id": "hvDhB3KIpfN5"
      }
    },
    {
      "cell_type": "code",
      "source": [
        "def addition(a,b):\n",
        "  return a+b\n",
        "\n",
        "sum_value = addition(1,1)\n",
        "print(sum_value)"
      ],
      "metadata": {
        "id": "oS1SGTHSpf6T"
      },
      "execution_count": null,
      "outputs": []
    },
    {
      "cell_type": "markdown",
      "source": [
        "---\n",
        "\n",
        "#####**Now your turn! Try Exercises #1-5 on your own.**\n",
        "\n",
        "---"
      ],
      "metadata": {
        "id": "u_ibSJ4BdhkT"
      }
    },
    {
      "cell_type": "markdown",
      "source": [
        "###Exercise #1\n",
        "---\n",
        "**Problem:** How many arguments does this function have?"
      ],
      "metadata": {
        "id": "aJCNSqyvk0x8"
      }
    },
    {
      "cell_type": "code",
      "source": [
        "def print_name_age(name, age):\n",
        "  print(name + \" is \" + str(age) + \" years old\")"
      ],
      "metadata": {
        "id": "qfWYxiqBDdLR"
      },
      "execution_count": null,
      "outputs": []
    },
    {
      "cell_type": "markdown",
      "source": [
        "###Exercise #2\n",
        "---\n",
        "**Problem:** Given the following function, complete it so that it returns the sum of the arguments. You can assume all arguments are valid numbers. Test your function."
      ],
      "metadata": {
        "id": "Bi-7e9bt-4ZC"
      }
    },
    {
      "cell_type": "code",
      "source": [
        "def add_three(num1, num2, num3):\n",
        "\n",
        "# Test\n",
        "x = add_three(5, 9, 3)\n",
        "print(x)"
      ],
      "metadata": {
        "id": "mJQexHktEDme"
      },
      "execution_count": null,
      "outputs": []
    },
    {
      "cell_type": "markdown",
      "source": [
        "###Exercise #3\n",
        "---\n",
        "**Problem:**  How many arguments are in this function?"
      ],
      "metadata": {
        "id": "LZhl0u-174pK"
      }
    },
    {
      "cell_type": "code",
      "source": [
        "def my_function(fname, mname, lname, age):\n",
        "  print(fname + \" \" + mname + \" \" + lname + + \" is \" + age)"
      ],
      "metadata": {
        "id": "wJI2fIJO775W"
      },
      "execution_count": null,
      "outputs": []
    },
    {
      "cell_type": "markdown",
      "source": [
        "###Exercise #4\n",
        "---\n",
        "**Problem:**  Define a function called `zipcode` that takes 1 argument called `num` and returns the sentence: \"My zipcode is [NUM].\"\n",
        "\n",
        "Test your function."
      ],
      "metadata": {
        "id": "KyyJsRV_qyCu"
      }
    },
    {
      "cell_type": "code",
      "source": [],
      "metadata": {
        "id": "8W3yXicHqyCu"
      },
      "execution_count": null,
      "outputs": []
    },
    {
      "cell_type": "markdown",
      "source": [
        "###Exercise #5\n",
        "---\n",
        "**Problem:**  Define a function called `random` that takes three numbers as arguments and returns the result of multiplying the first two numbers and then the third number.\n",
        "\n",
        "Test your function."
      ],
      "metadata": {
        "id": "Nypy282jroJM"
      }
    },
    {
      "cell_type": "code",
      "source": [],
      "metadata": {
        "id": "OHs7_XWCroJe"
      },
      "execution_count": null,
      "outputs": []
    },
    {
      "cell_type": "markdown",
      "source": [
        "##**PART 3: Independent Practice**\n",
        "---"
      ],
      "metadata": {
        "id": "ifCz5BOUJsZG"
      }
    },
    {
      "cell_type": "markdown",
      "source": [
        "###Exercise #1\n",
        "---\n",
        "**Problem:**  How many arguments are in the following function?\n"
      ],
      "metadata": {
        "id": "DtXs2U5__0a6"
      }
    },
    {
      "cell_type": "code",
      "source": [
        "def print_sentence(name, activity1, activity2):\n",
        "  print(\"Hi! My name is \" + name + \" and I like to \" + activity1 + \" and \" + activity2)\n"
      ],
      "metadata": {
        "id": "Av9b5hI8_0a8"
      },
      "execution_count": null,
      "outputs": []
    },
    {
      "cell_type": "markdown",
      "source": [
        "###Exercise #2\n",
        "---\n",
        "**Problem:**  Use indexing to print the largest number in the list."
      ],
      "metadata": {
        "id": "E9D-UlhIADN-"
      }
    },
    {
      "cell_type": "code",
      "source": [
        "numbers = [93, 27, 42, 31, 95, 97]"
      ],
      "metadata": {
        "id": "VgOsjfnSADN-"
      },
      "execution_count": null,
      "outputs": []
    },
    {
      "cell_type": "markdown",
      "source": [
        "###Exercise #3\n",
        "---\n",
        "**Problem:**  Call the function `print_sentence` with the appropriate arguments.\n"
      ],
      "metadata": {
        "id": "KMKiM-WhrcT_"
      }
    },
    {
      "cell_type": "code",
      "source": [
        "def print_sentence(name, activity1, activity2):\n",
        "  print(\"Hi! My name is \" + name + \" and I like to \" + activity1 + \" and \" + activity2)\n",
        "\n",
        "#add code"
      ],
      "metadata": {
        "id": "KX2EmTXmrcT_"
      },
      "execution_count": null,
      "outputs": []
    },
    {
      "cell_type": "markdown",
      "source": [
        "###Exercise #4\n",
        "---\n",
        "**Problem:**  Initialize an empty list called `grocery_list`. Then, add the following items to the list, one at a time: `\"milk\"`, `\"eggs\"`, `\"bread\"`, `\"juice\"`, and `\"cheese\"`. Print the resulting list."
      ],
      "metadata": {
        "id": "lRsVWDOuADN6"
      }
    },
    {
      "cell_type": "code",
      "source": [],
      "metadata": {
        "id": "0V0CPoBDADN6"
      },
      "execution_count": null,
      "outputs": []
    },
    {
      "cell_type": "markdown",
      "source": [
        "###Exercise #5\n",
        "---\n",
        "**Problem:**  Given the list\n",
        "`ls = [1, 2, 3, 4, 5]`,\n",
        "create a new list called `reversed_ls` such that it has the values of `ls` in reverse order. Print that list."
      ],
      "metadata": {
        "id": "SuqQO4-4_-oC"
      }
    },
    {
      "cell_type": "code",
      "source": [
        "ls = [1, 2, 3, 4, 5]"
      ],
      "metadata": {
        "id": "aBs-LgGq_-oV"
      },
      "execution_count": null,
      "outputs": []
    },
    {
      "cell_type": "markdown",
      "source": [
        "###Exercise #6\n",
        "---\n",
        "**Problem:**  Call the function `welcome` with the appropriate argument."
      ],
      "metadata": {
        "id": "u7vBm7HdiNZb"
      }
    },
    {
      "cell_type": "code",
      "source": [
        "def welcome(name):\n",
        "  print(\"Welcome back, \" + name + \"!\")\n",
        "\n",
        "#add code"
      ],
      "metadata": {
        "id": "oACDJx0vk15z"
      },
      "execution_count": null,
      "outputs": []
    },
    {
      "cell_type": "markdown",
      "source": [
        "###Exercise #7\n",
        "---\n",
        "**Problem:**  We have given you an incomplete function called `my_favorite_color`.\n",
        "\n",
        "Complete the function such that it prints the sentence `\"My favorite color is <color>!\"`\n",
        "\n",
        "The area labelled:\n",
        "```python\n",
        "#TODO\n",
        "```\n",
        "is where you should add your code. You can assume that the argument is a string."
      ],
      "metadata": {
        "id": "iP3EFbskiNzT"
      }
    },
    {
      "cell_type": "code",
      "source": [
        "def my_favorite_color(color):\n",
        "  #TODO\n",
        "\n",
        "# Test\n",
        "my_favorite_color(\"red\")"
      ],
      "metadata": {
        "id": "tgewb10Xk2WT"
      },
      "execution_count": null,
      "outputs": []
    },
    {
      "cell_type": "markdown",
      "source": [
        "###Exercise #8\n",
        "---\n",
        "**Problem:** Given the list `ls = [\"h\", \"e\", \"l\", \"l\", \"o\"]`, print the concatenated string of the elements in the list."
      ],
      "metadata": {
        "id": "ubJ-KywFADN8"
      }
    },
    {
      "cell_type": "code",
      "source": [
        "ls = [\"h\", \"e\", \"l\", \"l\", \"o\"]"
      ],
      "metadata": {
        "id": "aHCSGFFFADN8"
      },
      "execution_count": null,
      "outputs": []
    },
    {
      "cell_type": "markdown",
      "source": [
        "###Exercise #9\n",
        "---\n",
        "**Problem:**  Given the list `months`, modify the list so that it contains all 12 months. Print the resulting list."
      ],
      "metadata": {
        "id": "DY2wNus6ADN_"
      }
    },
    {
      "cell_type": "code",
      "source": [
        "months = [\"January\", \"February\", \"March\", \"May\", \"June\", \"July\", \"September\", \"November\"]"
      ],
      "metadata": {
        "id": "70JsZsZWADN_"
      },
      "execution_count": null,
      "outputs": []
    },
    {
      "cell_type": "markdown",
      "source": [
        "###Exercise #10\n",
        "---\n",
        "**Problem:**  Define a function called `square` that takes in an argument that is a number, and returns the square of that number.\n",
        "\n",
        "Test your function."
      ],
      "metadata": {
        "id": "O8HuaoiviNF1"
      }
    },
    {
      "cell_type": "code",
      "source": [],
      "metadata": {
        "id": "2BCemfAmk1nB"
      },
      "execution_count": null,
      "outputs": []
    },
    {
      "cell_type": "markdown",
      "source": [
        "###Exercise #11\n",
        "---\n",
        "**Problem:**  Define a function called `multiply` that takes three arguments and returns the product of the three arguments.\n",
        "\n",
        "You can assume that the arguments are numbers (integers or floats).\n",
        "\n",
        "Test your function."
      ],
      "metadata": {
        "id": "hOPaYL4HiIA7"
      }
    },
    {
      "cell_type": "code",
      "source": [],
      "metadata": {
        "id": "lvOcmirOiLj8"
      },
      "execution_count": null,
      "outputs": []
    },
    {
      "cell_type": "markdown",
      "source": [
        "###Exercise #12\n",
        "---\n",
        "**Problem:**  Given the list `numbers = [7, 12, 13, 15, 4, 8, 9]`, remove the even numbers from the list. Print the resulting list."
      ],
      "metadata": {
        "id": "kZou2IaoADN7"
      }
    },
    {
      "cell_type": "code",
      "source": [
        "numbers = [7, 12, 13, 15, 4, 8, 9]"
      ],
      "metadata": {
        "id": "S40-OHc8ADN7"
      },
      "execution_count": null,
      "outputs": []
    },
    {
      "cell_type": "markdown",
      "source": [
        "###Exercise #13\n",
        "---\n",
        "**Problem:**  Use indexing to print ```15```.\n"
      ],
      "metadata": {
        "id": "elp3kIirADN5"
      }
    },
    {
      "cell_type": "code",
      "source": [
        "numbers = [5, 7, 10, 14, 19]"
      ],
      "metadata": {
        "id": "DvCB3vv_ADN5"
      },
      "execution_count": null,
      "outputs": []
    },
    {
      "cell_type": "markdown",
      "source": [
        "###Exercise #14\n",
        "---\n",
        "**Problem:** Modify the list below so that it becomes `[100, 25, 60, 90, 40]`. Print the resulting list."
      ],
      "metadata": {
        "id": "8LKZoLXQADN9"
      }
    },
    {
      "cell_type": "code",
      "source": [
        "numbers = [10, 25, 40, 60, 90]"
      ],
      "metadata": {
        "id": "a3vedSR4ADN9"
      },
      "execution_count": null,
      "outputs": []
    },
    {
      "cell_type": "markdown",
      "source": [
        "###Exercise #15\n",
        "---\n",
        "**Problem:**  Define a function called `math` that takes in two numbers as arguments, and prints the sum and product of those numbers in the format: \\\\\n",
        "\"Sum: `___`\" \\\\\n",
        "\"Product: `___`\" \\\\\n",
        "where `___` is the corresponding value. Test your function.\n"
      ],
      "metadata": {
        "id": "SoPgSDQv_8C1"
      }
    },
    {
      "cell_type": "code",
      "source": [],
      "metadata": {
        "id": "Tl-P846k_8DI"
      },
      "execution_count": null,
      "outputs": []
    },
    {
      "cell_type": "markdown",
      "source": [
        "###Exercise #16\n",
        "---\n",
        "**Problem:**  We have given you an incomplete function called `todo_print` Complete the function such that for each argument it will print out `\"Todo item: ___\"` where `___` is the value of each argument.\n",
        "\n",
        "The area labelled:\n",
        "```python\n",
        "#TODO\n",
        "```\n",
        "Is where you should add your code.\n"
      ],
      "metadata": {
        "id": "8_vfYi4Er5SM"
      }
    },
    {
      "cell_type": "code",
      "source": [
        "def todo_print(item1, item2, item3, item4):\n",
        "  # TODO\n",
        "\n",
        "# Test\n",
        "todo_print(\"Get eggs\", \"pet dog\", \"make coffee\", \"make breakfast\")"
      ],
      "metadata": {
        "colab": {
          "base_uri": "https://localhost:8080/"
        },
        "id": "uJ_YuGPZr5SN",
        "outputId": "71b9d5f2-a4f8-4a66-8ccc-862b3e17ddfd"
      },
      "execution_count": null,
      "outputs": [
        {
          "output_type": "stream",
          "name": "stdout",
          "text": [
            "Todo item: Get eggs\n",
            "Todo item: pet dog\n",
            "Todo item: make coffee\n",
            "Todo item: make breakfast\n"
          ]
        }
      ]
    },
    {
      "cell_type": "markdown",
      "source": [
        "---\n",
        "© 2023 The Coding School, All rights reserved"
      ],
      "metadata": {
        "id": "9dZCQTKTXvWU"
      }
    }
  ],
  "metadata": {
    "colab": {
      "collapsed_sections": [
        "HNUj15rcMRkw",
        "TfX-aoXeNfoH",
        "giH5Hc1so5Yt",
        "D93c_1c1pc37",
        "SLTIJu6561Hu",
        "nvBxBR3C7KhM",
        "vIGyGGU_7WOp",
        "_MtdgCIVP-wN",
        "CMqbt95uWfeJ",
        "qMliA8jnW72b",
        "VG1n-RE1N7rg",
        "NE7_i3NyYDUC",
        "J6JOwm5howPw",
        "20rjZ1LYewxk",
        "IIm4r5cB2NV5"
      ],
      "provenance": [],
      "include_colab_link": true
    },
    "kernelspec": {
      "display_name": "Python 3",
      "name": "python3"
    },
    "language_info": {
      "name": "python"
    }
  },
  "nbformat": 4,
  "nbformat_minor": 0
}