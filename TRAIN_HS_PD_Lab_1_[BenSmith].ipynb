{
  "nbformat": 4,
  "nbformat_minor": 0,
  "metadata": {
    "colab": {
      "provenance": [],
      "include_colab_link": true
    },
    "kernelspec": {
      "name": "python3",
      "display_name": "Python 3"
    },
    "language_info": {
      "name": "python"
    }
  },
  "cells": [
    {
      "cell_type": "markdown",
      "metadata": {
        "id": "view-in-github",
        "colab_type": "text"
      },
      "source": [
        "<a href=\"https://colab.research.google.com/github/Chronicbeard/APCSA1/blob/master/TRAIN_HS_PD_Lab_1_%5BBenSmith%5D.ipynb\" target=\"_parent\"><img src=\"https://colab.research.google.com/assets/colab-badge.svg\" alt=\"Open In Colab\"/></a>"
      ]
    },
    {
      "cell_type": "markdown",
      "source": [
        "# **Lab 1: Python Review**\n",
        "---\n",
        "\n",
        "### **Description**\n",
        "In today's lab, you will hone essential python skills by applying them to several different mini-projects. In most cases, you will need to use a combination of arithmetic, variables, lists, and more together--which is more representative of coding in general.\n",
        "\n",
        "<br>\n",
        "\n",
        "### **Lab Structure**\n",
        "**Part 1**: [Build Your Own Calculator](#p1)\n",
        "\n",
        "**Part 2**: [Build Your Own Data Explorer](#p2)\n",
        "\n",
        "**Part 3**: [[OPTIONAL] Conway's Game of Life](#p3)\n",
        "\n",
        "\n",
        "<br>\n",
        "\n",
        "### **Goals**\n",
        "By the end of this lab, you will:\n",
        "* Feel more comfortable with fundamental python syntax.\n",
        "* Have seen how to apply your python skills in several different contexts.\n",
        "\n",
        "<br>\n",
        "\n",
        "### **Cheat Sheets**\n",
        "[Python Cheatsheet](https://docs.google.com/document/d/1sbDvZXxqkqvaxEj7WM_nfhTI3q5Yut-9dz0IxEta-VA/edit?usp=sharing)\n",
        "\n",
        "<br>\n",
        "\n",
        "**Before starting, run the code below to import all necessary functions and libraries.**\n"
      ],
      "metadata": {
        "id": "mbZXQ3rA3NwL"
      }
    },
    {
      "cell_type": "code",
      "source": [
        "from IPython.display import clear_output\n",
        "from time import sleep\n",
        "\n",
        "import warnings\n",
        "warnings.filterwarnings('ignore')"
      ],
      "metadata": {
        "id": "YAvvLhRIoqYp"
      },
      "execution_count": null,
      "outputs": []
    },
    {
      "cell_type": "markdown",
      "source": [
        "<a name=\"p1\"></a>\n",
        "\n",
        "---\n",
        "## **Part 1: Build Your Own Calculator**\n",
        "---\n",
        "\n",
        "In this section, you will build two calculators: one that can perform operations with two given numbers and another that can take in a list of numbers and operations and produce the overall result."
      ],
      "metadata": {
        "id": "idga37M2FsMR"
      }
    },
    {
      "cell_type": "markdown",
      "source": [
        "### **Problem #1.1**\n",
        "\n",
        "To start, write code that adds the two variables provided and prints the result."
      ],
      "metadata": {
        "id": "E90o2LJcwsMI"
      }
    },
    {
      "cell_type": "code",
      "source": [
        "num1 = -5\n",
        "num2 = 3\n",
        "\n",
        "print(num1 + num2)"
      ],
      "metadata": {
        "id": "ef77ha0_x9a_",
        "colab": {
          "base_uri": "https://localhost:8080/"
        },
        "outputId": "57423909-1b00-4334-b221-185cce0f6744"
      },
      "execution_count": null,
      "outputs": [
        {
          "output_type": "stream",
          "name": "stdout",
          "text": [
            "-2\n"
          ]
        }
      ]
    },
    {
      "cell_type": "markdown",
      "source": [
        "### **Problem #1.2**\n",
        "\n",
        "Now, complete this code to add these variables and print the result, *only* if the `operation` variable equals `\"+\"`."
      ],
      "metadata": {
        "id": "vjo8zKrSv5pT"
      }
    },
    {
      "cell_type": "code",
      "source": [
        "num1 = -5\n",
        "num2 = 3\n",
        "operation = \"+\"\n",
        "\n",
        "if operation == \"+\":\n",
        "  print(num1 + num2)\n",
        "\n"
      ],
      "metadata": {
        "id": "a6QyB1Biv5pU",
        "colab": {
          "base_uri": "https://localhost:8080/"
        },
        "outputId": "c0ccc5dc-a0c4-4267-f6d9-188f10d85788"
      },
      "execution_count": null,
      "outputs": [
        {
          "output_type": "stream",
          "name": "stdout",
          "text": [
            "-2\n"
          ]
        }
      ]
    },
    {
      "cell_type": "markdown",
      "source": [
        "### **Problem #1.3**\n",
        "\n",
        "Extend your solution from above by encoding the following possibilities:\n",
        "\n",
        "* If `operation` equals `'+'`, then add the variables and print the result.\n",
        "* If `operation` equals `'-'`, then subract `num2` from `num1` and print the result.\n",
        "* If `operation` equals `'*'`, then multiply the variables and print the result.\n",
        "* If `operation` equals `'/'`, then check if `num2` equals 0. If it does, then print `'NaN'`, otherwise divide `num1` by `num2` and print the result.\n",
        "* If `operation` equals `'**'`, then raise `num1` to the power of `num2` and print the result. **NOTE**: In python, `**` is the syntax for performing exponentiation.\n",
        "* If `operation` equals anything else, then print `'Operation OPERATION is not supported.'` where the `operation` variable is printed in place of `'OPERATION'`."
      ],
      "metadata": {
        "id": "sfQWUJq_wdLY"
      }
    },
    {
      "cell_type": "code",
      "source": [
        "# COMPLETE THIS CODE"
      ],
      "metadata": {
        "id": "bc5Yo6quwdLZ"
      },
      "execution_count": null,
      "outputs": []
    },
    {
      "cell_type": "markdown",
      "source": [
        "### **Problem #1.4**\n",
        "\n",
        "Now, place this code inside a function as described below:\n",
        "* It is named `calculator_2_nums`.\n",
        "* It takes in 3 parameters: `num1`, `num2`, and `operation`.\n",
        "* It performs the exact same functionality as above, *except* it returns the results (and outputs) instead of printing them."
      ],
      "metadata": {
        "id": "enr1K-uyxv1v"
      }
    },
    {
      "cell_type": "code",
      "source": [
        "# COMPLETE THIS CODE"
      ],
      "metadata": {
        "id": "1FVHQLVnxv1x"
      },
      "execution_count": null,
      "outputs": []
    },
    {
      "cell_type": "markdown",
      "source": [
        "### **[OPTIONAL] Problem #1.5**\n",
        "\n",
        "If you would like to extend your code further, attempt this problem! Specifically, write a function as described below:\n",
        "* It is named `calculator_list`.\n",
        "* It takes in 2 parameters: `nums`, and `operations`. `operations` is guaranteed to have one fewer element than `nums`. `nums` is only guaranteed to have at least 2 elements.\n",
        "* You do not need to worry about order of operations. The operations should just be applied from left to right.\n",
        "\n",
        "\n",
        "\n",
        "Here are a few examples to help you understand what your function should do:\n",
        "\n",
        "\n",
        "1.\n",
        "\n",
        "```python\n",
        "calculator_list([1, 2, 3], ['+', '-'])\n",
        "```\n",
        "should return the result of 1 + 2 - 3: `0`.\n",
        "\n",
        "\n",
        "2.\n",
        "```python\n",
        "calculator_list([5, 0, -2], ['*', '+'])\n",
        "```\n",
        "should return the result of 5 * 0 + (-2): `-2`.\n",
        "\n",
        "\n",
        "3.\n",
        "```python\n",
        "calculator_list([5, 0, -2], ['/', '+'])\n",
        "```\n",
        "should return the result of 5 / 0 + (-2): `'NaN'`.\n",
        "\n",
        "\n",
        "\n",
        "4.\n",
        "```python\n",
        "calculator_list([1, 2], ['do math'])\n",
        "```\n",
        "should return the result of 1 'do math' 2: `'The operation do math is not supported.'`."
      ],
      "metadata": {
        "id": "4-luwNU1yrMP"
      }
    },
    {
      "cell_type": "code",
      "source": [
        "# COMPLETE THIS CODE"
      ],
      "metadata": {
        "id": "lLmDcLs5yrMb"
      },
      "execution_count": null,
      "outputs": []
    },
    {
      "cell_type": "markdown",
      "source": [
        "<a name=\"p2\"></a>\n",
        "\n",
        "---\n",
        "## **Part 2: Build Your Own Data Explorer**\n",
        "---\n",
        "\n",
        "In this section, you will code a series of functions of can help us explore and understand the data stored in lists. Tomorrow, we will see more advanced tools that have been written to do just this!"
      ],
      "metadata": {
        "id": "VsAElfj9eaBq"
      }
    },
    {
      "cell_type": "markdown",
      "source": [
        "### **Problem #2.1**\n",
        "\n",
        "Write a function as described below:\n",
        "* It is named `average`.\n",
        "* It takes in 1 parameter, `data`, which is assumed to be a list of numbers.\n",
        "* It returns the average (or mean) of the numbers in the list.\n",
        "\n",
        "<br>\n",
        "\n",
        "**Hint**: Python has built-in functions that may be helpful here-specifically, [`sum(...)`](https://docs.python.org/3/library/functions.html#sum) and [`len(...)`](https://docs.python.org/3/library/functions.html#len). Click on the function names here to read more about them."
      ],
      "metadata": {
        "id": "t4G0m4OI1o5U"
      }
    },
    {
      "cell_type": "code",
      "source": [
        "# COMPLETE THIS CODE"
      ],
      "metadata": {
        "id": "7SLEYlvB1o5g"
      },
      "execution_count": null,
      "outputs": []
    },
    {
      "cell_type": "markdown",
      "source": [
        "### **Problem #2.2**\n",
        "\n",
        "Write a function as described below:\n",
        "* It is named `variance`.\n",
        "* It takes in 1 parameter, `data`, which is assumed to be a list of numbers.\n",
        "* It returns the variance of the numbers in the list.\n",
        "\n",
        "<br>\n",
        "\n",
        "**NOTE**: The variance can be calculated as follows,\n",
        "\n",
        "$\\textbf{variance = sum} \\mathbf{\\frac{(\\text{data}_i - \\text{average})^2}{\\text{number of data points}}}$"
      ],
      "metadata": {
        "id": "vJn2_cKD2V3P"
      }
    },
    {
      "cell_type": "code",
      "source": [
        "# COMPLETE THIS CODE"
      ],
      "metadata": {
        "id": "8IwIecuG2V3b"
      },
      "execution_count": null,
      "outputs": []
    },
    {
      "cell_type": "markdown",
      "source": [
        "### **Problem #2.3**\n",
        "\n",
        "Write a function as described below:\n",
        "* It is named `statistics`.\n",
        "* It takes in 1 parameter, `data`, which is assumed to be a list of numbers.\n",
        "* It prints the average, variance, minimum, and maximum of the list.\n",
        "* It returns nothing.\n",
        "\n",
        "<br>\n",
        "\n",
        "**Hint**: Python has built-in functions that may be helpful here-specifically, [`min(...)`](https://docs.python.org/3/library/functions.html#min) and [`max(...)`](https://docs.python.org/3/library/functions.html#max). Click on the function names here to read more about them."
      ],
      "metadata": {
        "id": "_OfuXCPT30Lf"
      }
    },
    {
      "cell_type": "code",
      "source": [
        "# COMPLETE THIS CODE"
      ],
      "metadata": {
        "id": "KV4btsG730Lr"
      },
      "execution_count": null,
      "outputs": []
    },
    {
      "cell_type": "markdown",
      "source": [
        "### **Problem #2.4**\n",
        "\n",
        "Write a function as described below:\n",
        "* It is named `drop_na`.\n",
        "* It takes in 1 parameter, `data`, which is assumed to be a list of numbers.\n",
        "* It creates a new list that stores any elements from `data` that *are not* equal to `'NaN'` or `'null'`.\n",
        "* It returns the new list."
      ],
      "metadata": {
        "id": "XJBRpoBz4WnP"
      }
    },
    {
      "cell_type": "code",
      "source": [
        "# COMPLETE THIS CODE"
      ],
      "metadata": {
        "id": "zHvt18ZI4Wnc"
      },
      "execution_count": null,
      "outputs": []
    },
    {
      "cell_type": "markdown",
      "source": [
        "### **Problem #2.5**\n",
        "\n",
        "Write a function as described below:\n",
        "* It is named `head`.\n",
        "* It takes in 2 parameters, `data`, which is assumed to be a list of numbers, and `n`, which is assumed to be an integer less than the size of `data`.\n",
        "* It prints the first `n` rows of `data` in the format: `ROW NUMBER: DATA IN THAT ROW` where `ROW NUMBER` should go from `0` to `n - 1` and `DATA IN THAT ROW` is the data in rows `0` to `n - 1` respectively."
      ],
      "metadata": {
        "id": "-InkcDKi4tbM"
      }
    },
    {
      "cell_type": "code",
      "source": [
        "# COMPLETE THIS CODE"
      ],
      "metadata": {
        "id": "6uQLsihj4tbY"
      },
      "execution_count": null,
      "outputs": []
    },
    {
      "cell_type": "markdown",
      "source": [
        "### **[OPTIONAL] Problem #2.6**\n",
        "\n",
        "If you would like to extend your code further, attempt this problem! Specifically, write a function as described below:\n",
        "* It is named `is_numerical`.\n",
        "* It takes in 1 parameter, `data`, which is assumed to be a 2D list (a list where each element is itself a list). The type of element in each list can be anything (numbers, strings, or others).\n",
        "* It returns a list where the `i`th element is `True` if `data[i]` contains numbers (ints or floats) and `False` otherwise."
      ],
      "metadata": {
        "id": "3FiqZhBX5SCG"
      }
    },
    {
      "cell_type": "code",
      "source": [
        "# COMPLETE THIS CODE"
      ],
      "metadata": {
        "id": "_QRcAdlh5SCR"
      },
      "execution_count": null,
      "outputs": []
    },
    {
      "cell_type": "markdown",
      "source": [
        "### **[OPTIONAL] Problem #2.7**\n",
        "\n",
        "If you would like to extend your code even further, attempt this problem! Specifically, write a function as described below:\n",
        "* It is named `statistics_list`.\n",
        "* It takes in 1 parameters, `data`, which is assumed to be a 2D list (a list where each element is itself a list). The type of element in each list can be anything (numbers, strings, or others).\n",
        "* It calls the function you wrote above, `statistics`, for every *numerical* sublist, and ignores the other."
      ],
      "metadata": {
        "id": "Yiw_G0JG57rj"
      }
    },
    {
      "cell_type": "code",
      "source": [
        "# COMPLETE THIS CODE"
      ],
      "metadata": {
        "id": "IF3kjr3K57rp"
      },
      "execution_count": null,
      "outputs": []
    },
    {
      "cell_type": "markdown",
      "source": [
        "<a name=\"p3\"></a>\n",
        "\n",
        "---\n",
        "## **Part 3: [OPTIONAL] Conway's Game of Life**\n",
        "---\n",
        "\n",
        "In this section, you will code a very famous game in computer science and mathematics. It works as follows:\n",
        "\n",
        "* You provide an `n` x `n` square grid of strings that are either `' '` or `'A'`. We call each of these locations in the grid a \"cell\". If a cell is `' '` then we say it is \"dead\" and if it is `'A'` then it is \"alive\".\n",
        "* A new \"generation\" (sometimes called a \"tick\") passes, creating a new grid. This new grid is created as follows:\n",
        "> * First a new grid is made that is a copy of the previous one.\n",
        "> * Next, each cell of the new grid is updated based on these three rules:\n",
        ">> 1. Any live cell (`'A'`) in the previous grid with two or three live neighbours (`'A'`) survives.\n",
        ">> 2. Any dead cell (`' '`) in the previous grid with three live neighbours (`'A'`) becomes a live cell  (`'A'`).\n",
        ">> 3. All other live cells (`'A'`) die (`' '`) in the new grid. Similarly, all other dead cells stay dead.\n",
        "\n",
        "<br>\n",
        "\n",
        "**NOTE**: If you are curious to learn more about this surprisingly deep game, you can start by exploring the following:\n",
        "* [Wikipedia: Conway's Game of Life](https://en.wikipedia.org/wiki/Conway%27s_Game_of_Life).\n",
        "* [Play the Game of Life](https://playgameoflife.com/)."
      ],
      "metadata": {
        "id": "ldjDjy-9hwNb"
      }
    },
    {
      "cell_type": "markdown",
      "source": [
        "### **Problem #3.1**\n",
        "\n",
        "First, we must write a function to provide a list of neighboring cells as described below:\n",
        "* It is named `get_neighbor_cells`.\n",
        "* It takes 3 parameters: `grid_size`, `row`, and `col`. The `grid_size` is how many rows there are in total (and since it's a square, how many columns there are in total). `row` and `col` describe the cell we are currently in and must look at neighbors around.\n",
        "* It starts by determining all 8 possible neighboring cells (above, below, next to, and diagonally).\n",
        "* It then only keeps cells if they are within the confines of the grid. Specifically, no rows or columns can be negative or greater than or equal to the grid_size.\n",
        "* Lastly, it returns the list of valid neighboring cells."
      ],
      "metadata": {
        "id": "LoNk2UCK6la0"
      }
    },
    {
      "cell_type": "code",
      "source": [
        "# COMPLETE THIS CODE"
      ],
      "metadata": {
        "id": "egRZyj2k6la-"
      },
      "execution_count": null,
      "outputs": []
    },
    {
      "cell_type": "markdown",
      "source": [
        "### **Problem #3.2**\n",
        "\n",
        "Next, we must write a function to print a grid at the beginning of each generation as described below:\n",
        "* It is named `print_grid`.\n",
        "* It takes 1 parameter, `grid`.\n",
        "* It prints each row one at a time.\n",
        "* Each row is formatted as follows: `'| CELL STATE | CELL STATE | CELL STATE | ...'` where `CELL STATE` is whatever is currently stored in `grid` (`'A'` or `' '`)."
      ],
      "metadata": {
        "id": "a600-2xp-BPa"
      }
    },
    {
      "cell_type": "code",
      "source": [
        "# COMPLETE THIS CODE"
      ],
      "metadata": {
        "id": "Ns86Z5J6-BPm"
      },
      "execution_count": null,
      "outputs": []
    },
    {
      "cell_type": "markdown",
      "source": [
        "### **Problem #3.3**\n",
        "\n",
        "Lastly, let's code the full game! Specifically, write a function as described below:\n",
        "* It is named `game_of_life`.\n",
        "* It takes 2 parameters: `grid` and `num_generations`.\n",
        "* It prints the provided grid as \"Generation 0\" and then follows the rules of the game for `num_generations` generations.\n",
        "* Within each generation, each cell is visited in the old grid to count the number of alive neighbors and this is then used to update the new grid.\n",
        "* Lastly, the new grid is printed."
      ],
      "metadata": {
        "id": "1jTI8iBJ-0qy"
      }
    },
    {
      "cell_type": "code",
      "source": [
        "# COMPLETE THIS CODE"
      ],
      "metadata": {
        "id": "EI6DzcZZ-0q_"
      },
      "execution_count": null,
      "outputs": []
    },
    {
      "cell_type": "markdown",
      "source": [
        "### **Problem #3.4**\n",
        "\n",
        "Now, let's try the game out! Specifically run the game using the grid provided below for 5 generations.\n",
        "\n",
        "**NOTE**: This is a famous example of what is known as a \"blinker\" in the game of life. You can find more information on the [Game of Life Wiki here](https://conwaylife.com/wiki/Blinker)."
      ],
      "metadata": {
        "id": "iMgW0mznALGz"
      }
    },
    {
      "cell_type": "code",
      "source": [
        "grid = [[\" \", \" \", \" \", \" \", \" \"],\n",
        "        [\" \", \" \", \" \", \" \", \" \"],\n",
        "        [\" \", \"A\", \"A\", \"A\", \" \"],\n",
        "        [\" \", \" \", \" \", \" \", \" \"],\n",
        "        [\" \", \" \", \" \", \" \", \" \"]\n",
        "        ]\n",
        "\n",
        "# COMPLETE THIS LINE"
      ],
      "metadata": {
        "id": "qhetNeNrALG0"
      },
      "execution_count": null,
      "outputs": []
    },
    {
      "cell_type": "markdown",
      "source": [
        "### **Problem #3.5**\n",
        "\n",
        "Now, run the game using the grid provided below for 15 generations.\n",
        "\n",
        "**NOTE**: This is a famous example of what is known as a \"glider\" in the game of life. You can find more information on the [Game of Life Wiki here](https://conwaylife.com/wiki/Glider)."
      ],
      "metadata": {
        "id": "K5CFUpj5AYJ3"
      }
    },
    {
      "cell_type": "code",
      "source": [
        "grid = [[\" \", \" \", \" \", \" \", \" \", \" \", \" \", \" \"],\n",
        "        [\" \", \"A\", \" \", \"A\", \" \", \" \", \" \", \" \"],\n",
        "        [\" \", \" \", \"A\", \"A\", \" \", \" \", \" \", \" \"],\n",
        "        [\" \", \" \", \"A\", \" \", \" \", \" \", \" \", \" \"],\n",
        "        [\" \", \" \", \" \", \" \", \" \", \" \", \" \", \" \"],\n",
        "        [\" \", \" \", \" \", \" \", \" \", \" \", \" \", \" \"],\n",
        "        [\" \", \" \", \" \", \" \", \" \", \" \", \" \", \" \"],\n",
        "        [\" \", \" \", \" \", \" \", \" \", \" \", \" \", \" \"]\n",
        "        ]\n",
        "\n",
        "\n",
        "# COMPLETE THIS LINE"
      ],
      "metadata": {
        "id": "PU8qlytHAYJ4"
      },
      "execution_count": null,
      "outputs": []
    },
    {
      "cell_type": "markdown",
      "source": [
        "### **Potential Followups**\n",
        "\n",
        "If you enjoyed this section and want to continue honing your skills further, consider attempting some of the following prompts. Modify the code so that it,\n",
        "\n",
        "* Works for a rectangular grid, meaning the number of rows and columns are different.\n",
        "\n",
        "* Works in just a 1 dimensional grid (only 1 row).\n",
        "\n",
        "* Works in a 3 dimensional grid (rows, columns, and depths).\n",
        "\n",
        "* Runs for however many generations are required for all cells to be dead OR the number of alive cells is constant.\n",
        "\n",
        "* Allows for more than 2 states, such as born, young, and old."
      ],
      "metadata": {
        "id": "epg3aQb5BOdf"
      }
    },
    {
      "cell_type": "markdown",
      "source": [
        "#End of notebook\n",
        "---\n",
        "© 2023 The Coding School, All rights reserved"
      ],
      "metadata": {
        "id": "7dzC09dLlEhm"
      }
    }
  ]
}